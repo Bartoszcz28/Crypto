{
 "cells": [
  {
   "cell_type": "code",
   "execution_count": 1,
   "id": "bdf53399",
   "metadata": {},
   "outputs": [
    {
     "name": "stdout",
     "output_type": "stream",
     "text": [
      "Requirement already satisfied: pandas in /opt/conda/lib/python3.9/site-packages (1.2.4)\n",
      "Requirement already satisfied: python-dateutil>=2.7.3 in /opt/conda/lib/python3.9/site-packages (from pandas) (2.8.1)\n",
      "Requirement already satisfied: pytz>=2017.3 in /opt/conda/lib/python3.9/site-packages (from pandas) (2021.1)\n",
      "Requirement already satisfied: numpy>=1.16.5 in /opt/conda/lib/python3.9/site-packages (from pandas) (1.20.3)\n",
      "Requirement already satisfied: six>=1.5 in /opt/conda/lib/python3.9/site-packages (from python-dateutil>=2.7.3->pandas) (1.16.0)\n",
      "Requirement already satisfied: numpy in /opt/conda/lib/python3.9/site-packages (1.20.3)\n",
      "Requirement already satisfied: numpy in /opt/conda/lib/python3.9/site-packages (1.20.3)\n",
      "Requirement already satisfied: matplotlib in /opt/conda/lib/python3.9/site-packages (3.4.2)\n",
      "Requirement already satisfied: kiwisolver>=1.0.1 in /opt/conda/lib/python3.9/site-packages (from matplotlib) (1.3.1)\n",
      "Requirement already satisfied: pillow>=6.2.0 in /opt/conda/lib/python3.9/site-packages (from matplotlib) (8.2.0)\n",
      "Requirement already satisfied: cycler>=0.10 in /opt/conda/lib/python3.9/site-packages (from matplotlib) (0.10.0)\n",
      "Requirement already satisfied: pyparsing>=2.2.1 in /opt/conda/lib/python3.9/site-packages (from matplotlib) (2.4.7)\n",
      "Requirement already satisfied: python-dateutil>=2.7 in /opt/conda/lib/python3.9/site-packages (from matplotlib) (2.8.1)\n",
      "Requirement already satisfied: six in /opt/conda/lib/python3.9/site-packages (from cycler>=0.10->matplotlib) (1.16.0)\n"
     ]
    }
   ],
   "source": [
    "!pip install pandas\n",
    "!pip install numpy\n",
    "!pip install numpy matplotlib"
   ]
  },
  {
   "cell_type": "code",
   "execution_count": 2,
   "id": "3dbb1388",
   "metadata": {},
   "outputs": [],
   "source": [
    "import numpy as np\n",
    "import pandas as pd\n",
    "# import os\n",
    "import matplotlib.pyplot as plt"
   ]
  },
  {
   "cell_type": "code",
   "execution_count": 11,
   "id": "fb769850",
   "metadata": {},
   "outputs": [],
   "source": [
    "df = pd.read_csv('/home/jovyan/Crypto/Data/coin_Bitcoin.csv')\n"
   ]
  },
  {
   "cell_type": "code",
   "execution_count": 12,
   "id": "2156c1cb",
   "metadata": {},
   "outputs": [
    {
     "name": "stdout",
     "output_type": "stream",
     "text": [
      "       SNo     Name Symbol                 Date          High           Low  \\\n",
      "0        1  Bitcoin    BTC  2013-04-29 23:59:59    147.488007    134.000000   \n",
      "1        2  Bitcoin    BTC  2013-04-30 23:59:59    146.929993    134.050003   \n",
      "2        3  Bitcoin    BTC  2013-05-01 23:59:59    139.889999    107.720001   \n",
      "3        4  Bitcoin    BTC  2013-05-02 23:59:59    125.599998     92.281898   \n",
      "4        5  Bitcoin    BTC  2013-05-03 23:59:59    108.127998     79.099998   \n",
      "...    ...      ...    ...                  ...           ...           ...   \n",
      "2986  2987  Bitcoin    BTC  2021-07-02 23:59:59  33939.588699  32770.680780   \n",
      "2987  2988  Bitcoin    BTC  2021-07-03 23:59:59  34909.259899  33402.696536   \n",
      "2988  2989  Bitcoin    BTC  2021-07-04 23:59:59  35937.567147  34396.477458   \n",
      "2989  2990  Bitcoin    BTC  2021-07-05 23:59:59  35284.344430  33213.661034   \n",
      "2990  2991  Bitcoin    BTC  2021-07-06 23:59:59  35038.536363  33599.916169   \n",
      "\n",
      "              Open         Close        Volume     Marketcap  \n",
      "0       134.444000    144.539993  0.000000e+00  1.603769e+09  \n",
      "1       144.000000    139.000000  0.000000e+00  1.542813e+09  \n",
      "2       139.000000    116.989998  0.000000e+00  1.298955e+09  \n",
      "3       116.379997    105.209999  0.000000e+00  1.168517e+09  \n",
      "4       106.250000     97.750000  0.000000e+00  1.085995e+09  \n",
      "...            ...           ...           ...           ...  \n",
      "2986  33549.600177  33897.048590  3.872897e+10  6.354508e+11  \n",
      "2987  33854.421362  34668.548402  2.438396e+10  6.499397e+11  \n",
      "2988  34665.564866  35287.779766  2.492431e+10  6.615748e+11  \n",
      "2989  35284.344430  33746.002456  2.672155e+10  6.326962e+11  \n",
      "2990  33723.509655  34235.193451  2.650126e+10  6.418992e+11  \n",
      "\n",
      "[2991 rows x 10 columns]\n"
     ]
    }
   ],
   "source": [
    "print(df)"
   ]
  }
 ],
 "metadata": {
  "kernelspec": {
   "display_name": "Python 3",
   "language": "python",
   "name": "python3"
  },
  "language_info": {
   "codemirror_mode": {
    "name": "ipython",
    "version": 3
   },
   "file_extension": ".py",
   "mimetype": "text/x-python",
   "name": "python",
   "nbconvert_exporter": "python",
   "pygments_lexer": "ipython3",
   "version": "3.9.2"
  }
 },
 "nbformat": 4,
 "nbformat_minor": 5
}
